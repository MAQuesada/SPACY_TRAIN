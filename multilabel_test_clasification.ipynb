{
 "cells": [
  {
   "cell_type": "markdown",
   "metadata": {},
   "source": [
    "# **Text Classification with Spacy using a news headline classification dataset**\n",
    "\n",
    "* https://catherinebreslin.medium.com/text-classification-with-spacy-3-0-d945e2e8fc44\n",
    "\n",
    "* https://www.kaggle.com/datasets/rmisra/news-category-dataset\n",
    "\n",
    "**News Category Dataset** is used to identify the type of news based on headlines and short descriptions. The two fields we’re interested in are category and headline. Our task will be to determine the category based on the text of the headline. Note that each headline in this set has a single category. In some classification tasks, multiple categories are allowed.\n",
    "\n",
    "The headlines in this set fall into 41 categories, and you can see that the data is reasonably unbalanced, for that we’ll only use data from the top 4 categories: POLITICS, WELLNESS, ENTERTAINMENT and TRAVEL. There are 76,511 examples in total.\n"
   ]
  },
  {
   "cell_type": "markdown",
   "metadata": {},
   "source": [
    "## Process the data\n"
   ]
  },
  {
   "cell_type": "code",
   "execution_count": 36,
   "metadata": {},
   "outputs": [],
   "source": [
    "with open('resources\\\\News_Category_Dataset_v3.json') as f:\n",
    "    lines = f.readlines()"
   ]
  },
  {
   "cell_type": "code",
   "execution_count": 37,
   "metadata": {},
   "outputs": [
    {
     "data": {
      "text/plain": [
       "[('POLITICS', 35602),\n",
       " ('WELLNESS', 17945),\n",
       " ('ENTERTAINMENT', 17362),\n",
       " ('TRAVEL', 9900),\n",
       " ('STYLE & BEAUTY', 9814),\n",
       " ('PARENTING', 8791),\n",
       " ('HEALTHY LIVING', 6694),\n",
       " ('QUEER VOICES', 6347),\n",
       " ('FOOD & DRINK', 6340),\n",
       " ('BUSINESS', 5992),\n",
       " ('COMEDY', 5400),\n",
       " ('SPORTS', 5077),\n",
       " ('BLACK VOICES', 4583),\n",
       " ('HOME & LIVING', 4320),\n",
       " ('PARENTS', 3955),\n",
       " ('THE WORLDPOST', 3664),\n",
       " ('WEDDINGS', 3653),\n",
       " ('WOMEN', 3572),\n",
       " ('CRIME', 3562),\n",
       " ('IMPACT', 3484),\n",
       " ('DIVORCE', 3426),\n",
       " ('WORLD NEWS', 3299),\n",
       " ('MEDIA', 2944),\n",
       " ('WEIRD NEWS', 2777),\n",
       " ('GREEN', 2622),\n",
       " ('WORLDPOST', 2579),\n",
       " ('RELIGION', 2577),\n",
       " ('STYLE', 2254),\n",
       " ('SCIENCE', 2206),\n",
       " ('TECH', 2104),\n",
       " ('TASTE', 2096),\n",
       " ('MONEY', 1756),\n",
       " ('ARTS', 1509),\n",
       " ('ENVIRONMENT', 1444),\n",
       " ('FIFTY', 1401),\n",
       " ('GOOD NEWS', 1398),\n",
       " ('U.S. NEWS', 1377),\n",
       " ('ARTS & CULTURE', 1339),\n",
       " ('COLLEGE', 1144),\n",
       " ('LATINO VOICES', 1130),\n",
       " ('CULTURE & ARTS', 1074),\n",
       " ('EDUCATION', 1014)]"
      ]
     },
     "execution_count": 37,
     "metadata": {},
     "output_type": "execute_result"
    }
   ],
   "source": [
    "import json\n",
    "\n",
    "categories_count = {}\n",
    "\n",
    "# Iterar a través de cada diccionario en la lista\n",
    "for dic in lines:\n",
    "    category = json.loads(dic)['category']\n",
    "    \n",
    "    # Actualizar el recuento de la categoría\n",
    "    if category in categories_count:\n",
    "        categories_count[category] += 1\n",
    "    else:\n",
    "        categories_count[category] = 1\n",
    "\n",
    "sorted(categories_count.items(), key=lambda x: x[1], reverse=True)\n",
    "\n"
   ]
  },
  {
   "cell_type": "code",
   "execution_count": 39,
   "metadata": {},
   "outputs": [],
   "source": [
    "from sklearn.model_selection import train_test_split\n",
    "from spacy.tokens import DocBin\n",
    "import spacy\n",
    "import json\n",
    "\n",
    "categories = [\"POLITICS\", \"WELLNESS\", \"ENTERTAINMENT\", \"TRAVEL\"]\n",
    "headline = [\n",
    "    json.loads(line)[\"headline\"]\n",
    "    for line in lines\n",
    "    if json.loads(line)[\"category\"] in categories\n",
    "]\n",
    "category = [\n",
    "    json.loads(line)[\"category\"]\n",
    "    for line in lines\n",
    "    if json.loads(line)[\"category\"] in categories\n",
    "]\n",
    "\n",
    "X_train, X_test, y_train, y_test = train_test_split(\n",
    "    headline, category, test_size=0.2, stratify=category, random_state=42\n",
    ")\n",
    "\n",
    "\n",
    "def convert(text_list: list, label_list: list, outfile: str):\n",
    "    nlp = spacy.blank(\"en\")\n",
    "    db = DocBin()\n",
    "    for text, label in zip(text_list, label_list):\n",
    "        doc = nlp.make_doc(text)\n",
    "        doc.cats = {category: 0 for category in categories}\n",
    "        doc.cats[label] = 1\n",
    "        db.add(doc)\n",
    "    db.to_disk(outfile)\n",
    "\n",
    "\n",
    "convert(X_train, y_train, \"resources/4_news_train.spacy\")\n",
    "convert(X_test, y_test, \"resources/4_news_dev.spacy\")\n"
   ]
  },
  {
   "cell_type": "markdown",
   "metadata": {},
   "source": [
    "## Model training"
   ]
  },
  {
   "cell_type": "code",
   "execution_count": 41,
   "metadata": {},
   "outputs": [
    {
     "name": "stdout",
     "output_type": "stream",
     "text": [
      "\u001b[38;5;3m⚠ To generate a more effective transformer-based config (GPU-only),\n",
      "install the spacy-transformers package and re-run this command. The config\n",
      "generated now does not use transformers.\u001b[0m\n",
      "\u001b[38;5;4mℹ Generated config template specific for your use case\u001b[0m\n",
      "- Language: en\n",
      "- Pipeline: textcat_multilabel\n",
      "- Optimize for: efficiency\n",
      "- Hardware: CPU\n",
      "- Transformer: None\n",
      "\u001b[38;5;2m✔ Auto-filled config with all values\u001b[0m\n",
      "\u001b[38;5;2m✔ Saved config\u001b[0m\n",
      "4news_config.cfg\n",
      "You can now add your data and train your pipeline:\n",
      "python -m spacy train 4news_config.cfg --paths.train ./train.spacy --paths.dev ./dev.spacy\n"
     ]
    }
   ],
   "source": [
    "!python -m spacy init config --pipeline textcat_multilabel 4news_config.cfg\n"
   ]
  },
  {
   "cell_type": "code",
   "execution_count": 45,
   "metadata": {},
   "outputs": [
    {
     "name": "stdout",
     "output_type": "stream",
     "text": [
      "\u001b[38;5;2m✔ Created output directory: resources\\4_news_model\u001b[0m\n",
      "\u001b[38;5;4mℹ Saving to output directory: resources\\4_news_model\u001b[0m\n",
      "\u001b[38;5;4mℹ Using CPU\u001b[0m\n",
      "\u001b[1m\n",
      "=========================== Initializing pipeline ===========================\u001b[0m\n",
      "\u001b[38;5;2m✔ Initialized pipeline\u001b[0m\n",
      "\u001b[1m\n",
      "============================= Training pipeline =============================\u001b[0m\n",
      "\u001b[38;5;4mℹ Pipeline: ['textcat_multilabel']\u001b[0m\n",
      "\u001b[38;5;4mℹ Initial learn rate: 0.001\u001b[0m\n",
      "E    #       LOSS TEXTC...  CATS_SCORE  SCORE \n",
      "---  ------  -------------  ----------  ------\n",
      "  0       0           0.25       66.90    0.67\n",
      "  0     200          38.24       82.84    0.83\n",
      "  0     400          28.12       87.87    0.88\n",
      "  0     600          23.47       90.38    0.90\n",
      "  0     800          20.95       92.21    0.92\n",
      "  0    1000          18.55       93.69    0.94\n",
      "  0    1200          17.09       94.71    0.95\n",
      "  0    1400          15.14       95.38    0.95\n",
      "  0    1600          14.44       96.02    0.96\n",
      "  0    1800          13.59       96.59    0.97\n",
      "  0    2000          12.61       96.93    0.97\n",
      "  1    2200          11.69       97.28    0.97\n",
      "  1    2400          10.33       97.51    0.98\n",
      "  1    2600           9.84       97.67    0.98\n",
      "  1    2800           9.42       97.83    0.98\n",
      "  2    3000           8.77       97.93    0.98\n",
      "  2    3200           8.24       98.01    0.98\n",
      "  2    3400           8.29       98.08    0.98\n",
      "  3    3600           7.85       98.16    0.98\n",
      "  3    3800           7.19       98.19    0.98\n",
      "  3    4000           7.17       98.25    0.98\n",
      "  3    4200           7.06       98.27    0.98\n",
      "  4    4400           6.66       98.31    0.98\n",
      "  4    4600           6.48       98.32    0.98\n",
      "  4    4800           6.39       98.34    0.98\n",
      "  4    5000           6.38       98.37    0.98\n",
      "  5    5200           5.87       98.39    0.98\n",
      "  5    5400           5.80       98.40    0.98\n",
      "  5    5600           5.81       98.42    0.98\n",
      "  6    5800           5.63       98.43    0.98\n",
      "  6    6000           5.33       98.44    0.98\n",
      "  6    6200           5.36       98.45    0.98\n",
      "  6    6400           5.42       98.46    0.98\n",
      "  7    6600           5.06       98.46    0.98\n",
      "  7    6800           4.88       98.46    0.98\n",
      "  7    7000           4.99       98.47    0.98\n",
      "  8    7200           4.94       98.48    0.98\n",
      "  8    7400           4.67       98.48    0.98\n",
      "  8    7600           4.62       98.49    0.98\n",
      "  8    7800           4.70       98.49    0.98\n",
      "  9    8000           4.51       98.49    0.98\n",
      "  9    8200           4.43       98.48    0.98\n",
      "  9    8400           4.34       98.49    0.98\n",
      "  9    8600           4.40       98.49    0.98\n",
      " 10    8800           4.16       98.49    0.98\n",
      " 10    9000           3.99       98.48    0.98\n",
      " 10    9200           4.27       98.49    0.98\n",
      " 11    9400           4.12       98.49    0.98\n",
      " 11    9600           3.90       98.49    0.98\n",
      " 11    9800           3.99       98.49    0.98\n",
      " 11   10000           4.00       98.49    0.98\n",
      " 12   10200           3.79       98.48    0.98\n",
      " 12   10400           3.86       98.48    0.98\n",
      " 12   10600           3.69       98.48    0.98\n",
      " 13   10800           3.73       98.48    0.98\n",
      " 13   11000           3.52       98.47    0.98\n",
      "\u001b[38;5;2m✔ Saved pipeline to output directory\u001b[0m\n",
      "resources\\4_news_model\\model-last\n"
     ]
    }
   ],
   "source": [
    "! python -m spacy train 4news_config.cfg --paths.train resources/4_news_train.spacy  --paths.dev resources/4_news_dev.spacy --output resources/4_news_model --verbose"
   ]
  },
  {
   "cell_type": "code",
   "execution_count": 46,
   "metadata": {},
   "outputs": [
    {
     "name": "stdout",
     "output_type": "stream",
     "text": [
      "{'POLITICS': 0.14570043981075287, 'WELLNESS': 0.09250684827566147, 'ENTERTAINMENT': 0.18099035322666168, 'TRAVEL': 0.42413559556007385}\n"
     ]
    }
   ],
   "source": [
    "nlp = spacy.load(\"resources/4_news_model/model-best\")\n",
    "doc=nlp(\"History is made: 10 new UK attractions for day trips and short breaks\")\n",
    "print(doc.cats)"
   ]
  },
  {
   "cell_type": "markdown",
   "metadata": {},
   "source": [
    "##  Package for reuse"
   ]
  },
  {
   "cell_type": "code",
   "execution_count": 49,
   "metadata": {},
   "outputs": [
    {
     "name": "stdout",
     "output_type": "stream",
     "text": [
      "\u001b[38;5;3m⚠ Generating packages without the 'build' package is deprecated and\n",
      "will not be supported in the future. To install 'build': pip install build\u001b[0m\n",
      "\u001b[38;5;4mℹ Building package artifacts: sdist\u001b[0m\n",
      "\u001b[38;5;2m✔ Loaded meta.json from file\u001b[0m\n",
      "resources\\4_news_model\\model-best\\meta.json\n",
      "\u001b[38;5;2m✔ Generated README.md from meta.json\u001b[0m\n",
      "\u001b[38;5;2m✔ Successfully created package directory 'en_news_4cat-0.0'\u001b[0m\n",
      "en_news_4cat-0.0\n",
      "\u001b[38;5;3m⚠ Creating sdist with 'python -m build' failed. Falling back to\n",
      "deprecated use of 'python setup.py sdist'\u001b[0m\n",
      "running sdist\n",
      "running egg_info\n",
      "creating en_news_4cat.egg-info\n",
      "writing en_news_4cat.egg-info\\PKG-INFO\n",
      "writing dependency_links to en_news_4cat.egg-info\\dependency_links.txt\n",
      "writing entry points to en_news_4cat.egg-info\\entry_points.txt\n",
      "writing requirements to en_news_4cat.egg-info\\requires.txt\n",
      "writing top-level names to en_news_4cat.egg-info\\top_level.txt\n",
      "writing manifest file 'en_news_4cat.egg-info\\SOURCES.txt'\n",
      "reading manifest file 'en_news_4cat.egg-info\\SOURCES.txt'\n",
      "reading manifest template 'MANIFEST.in'\n",
      "writing manifest file 'en_news_4cat.egg-info\\SOURCES.txt'\n",
      "running check\n",
      "creating en_news_4cat-0.0\n",
      "creating en_news_4cat-0.0\\en_news_4cat\n",
      "creating en_news_4cat-0.0\\en_news_4cat.egg-info\n",
      "creating en_news_4cat-0.0\\en_news_4cat\\en_news_4cat-0.0\n",
      "creating en_news_4cat-0.0\\en_news_4cat\\en_news_4cat-0.0\\textcat_multilabel\n",
      "creating en_news_4cat-0.0\\en_news_4cat\\en_news_4cat-0.0\\vocab\n",
      "copying files to en_news_4cat-0.0...\n",
      "copying MANIFEST.in -> en_news_4cat-0.0\n",
      "copying README.md -> en_news_4cat-0.0\n",
      "copying meta.json -> en_news_4cat-0.0\n",
      "copying setup.py -> en_news_4cat-0.0\n",
      "copying en_news_4cat\\__init__.py -> en_news_4cat-0.0\\en_news_4cat\n",
      "copying en_news_4cat\\meta.json -> en_news_4cat-0.0\\en_news_4cat\n",
      "copying en_news_4cat.egg-info\\PKG-INFO -> en_news_4cat-0.0\\en_news_4cat.egg-info\n",
      "copying en_news_4cat.egg-info\\SOURCES.txt -> en_news_4cat-0.0\\en_news_4cat.egg-info\n",
      "copying en_news_4cat.egg-info\\dependency_links.txt -> en_news_4cat-0.0\\en_news_4cat.egg-info\n",
      "copying en_news_4cat.egg-info\\entry_points.txt -> en_news_4cat-0.0\\en_news_4cat.egg-info\n",
      "copying en_news_4cat.egg-info\\not-zip-safe -> en_news_4cat-0.0\\en_news_4cat.egg-info\n",
      "copying en_news_4cat.egg-info\\requires.txt -> en_news_4cat-0.0\\en_news_4cat.egg-info\n",
      "copying en_news_4cat.egg-info\\top_level.txt -> en_news_4cat-0.0\\en_news_4cat.egg-info\n",
      "copying en_news_4cat\\en_news_4cat-0.0\\README.md -> en_news_4cat-0.0\\en_news_4cat\\en_news_4cat-0.0\n",
      "copying en_news_4cat\\en_news_4cat-0.0\\config.cfg -> en_news_4cat-0.0\\en_news_4cat\\en_news_4cat-0.0\n",
      "copying en_news_4cat\\en_news_4cat-0.0\\meta.json -> en_news_4cat-0.0\\en_news_4cat\\en_news_4cat-0.0\n",
      "copying en_news_4cat\\en_news_4cat-0.0\\tokenizer -> en_news_4cat-0.0\\en_news_4cat\\en_news_4cat-0.0\n",
      "copying en_news_4cat\\en_news_4cat-0.0\\textcat_multilabel\\cfg -> en_news_4cat-0.0\\en_news_4cat\\en_news_4cat-0.0\\textcat_multilabel\n",
      "copying en_news_4cat\\en_news_4cat-0.0\\textcat_multilabel\\model -> en_news_4cat-0.0\\en_news_4cat\\en_news_4cat-0.0\\textcat_multilabel\n",
      "copying en_news_4cat\\en_news_4cat-0.0\\vocab\\key2row -> en_news_4cat-0.0\\en_news_4cat\\en_news_4cat-0.0\\vocab\n",
      "copying en_news_4cat\\en_news_4cat-0.0\\vocab\\lookups.bin -> en_news_4cat-0.0\\en_news_4cat\\en_news_4cat-0.0\\vocab\n",
      "copying en_news_4cat\\en_news_4cat-0.0\\vocab\\strings.json -> en_news_4cat-0.0\\en_news_4cat\\en_news_4cat-0.0\\vocab\n",
      "copying en_news_4cat\\en_news_4cat-0.0\\vocab\\vectors -> en_news_4cat-0.0\\en_news_4cat\\en_news_4cat-0.0\\vocab\n",
      "copying en_news_4cat\\en_news_4cat-0.0\\vocab\\vectors.cfg -> en_news_4cat-0.0\\en_news_4cat\\en_news_4cat-0.0\\vocab\n",
      "Writing en_news_4cat-0.0\\setup.cfg\n",
      "creating dist\n",
      "Creating tar archive\n",
      "removing 'en_news_4cat-0.0' (and everything under it)\n",
      "\u001b[38;5;2m✔ Successfully created zipped Python package\u001b[0m\n",
      "en_news_4cat-0.0\\dist\\en_news_4cat-0.0.tar.gz\n"
     ]
    },
    {
     "name": "stderr",
     "output_type": "stream",
     "text": [
      "c:\\Users\\Manue!_PC\\AppData\\Local\\Programs\\Python\\Python310\\python.exe: No module named build\n",
      "warning: no files found matching 'LICENSE'\n",
      "warning: no files found matching 'LICENSES_SOURCES'\n",
      "warning: check: missing required meta-data: url\n",
      "\n",
      "warning: check: missing meta-data: either (author and author_email) or (maintainer and maintainer_email) should be supplied\n",
      "\n"
     ]
    }
   ],
   "source": [
    "! python -m spacy package resources/4_news_model/model-best resources --name news_4cat --version 0.0"
   ]
  }
 ],
 "metadata": {
  "kernelspec": {
   "display_name": "Python 3",
   "language": "python",
   "name": "python3"
  },
  "language_info": {
   "codemirror_mode": {
    "name": "ipython",
    "version": 3
   },
   "file_extension": ".py",
   "mimetype": "text/x-python",
   "name": "python",
   "nbconvert_exporter": "python",
   "pygments_lexer": "ipython3",
   "version": "3.10.4"
  }
 },
 "nbformat": 4,
 "nbformat_minor": 2
}
