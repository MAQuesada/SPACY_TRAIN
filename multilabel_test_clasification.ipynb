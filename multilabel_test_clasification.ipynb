{
 "cells": [
  {
   "cell_type": "markdown",
   "metadata": {},
   "source": [
    "# **Text Classification with Spacy using [a news headline classification task](https://www.kaggle.com/datasets/rmisra/news-category-dataset)**\n",
    "\n",
    "**News Category Dataset** is used to identify the type of news based on headlines and short descriptions. The two fields we’re interested in are category and headline. Our task will be to determine the category based on the text of the headline. Note that each headline in this set has a single category. In some classification tasks, multiple categories are allowed.\n",
    "\n",
    "The headlines in this set fall into 41 categories, and you can see that the data is reasonably unbalanced, for that we’ll only use data from the top 4 categories: POLITICS, WELLNESS, ENTERTAINMENT and TRAVEL. There are 76,511 examples in total.\n"
   ]
  },
  {
   "cell_type": "markdown",
   "metadata": {},
   "source": [
    "## Process the data\n"
   ]
  },
  {
   "cell_type": "code",
   "execution_count": 36,
   "metadata": {},
   "outputs": [],
   "source": [
    "with open('resources\\\\News_Category_Dataset_v3.json') as f:\n",
    "    lines = f.readlines()"
   ]
  },
  {
   "cell_type": "code",
   "execution_count": 37,
   "metadata": {},
   "outputs": [
    {
     "data": {
      "text/plain": [
       "[('POLITICS', 35602),\n",
       " ('WELLNESS', 17945),\n",
       " ('ENTERTAINMENT', 17362),\n",
       " ('TRAVEL', 9900),\n",
       " ('STYLE & BEAUTY', 9814),\n",
       " ('PARENTING', 8791),\n",
       " ('HEALTHY LIVING', 6694),\n",
       " ('QUEER VOICES', 6347),\n",
       " ('FOOD & DRINK', 6340),\n",
       " ('BUSINESS', 5992),\n",
       " ('COMEDY', 5400),\n",
       " ('SPORTS', 5077),\n",
       " ('BLACK VOICES', 4583),\n",
       " ('HOME & LIVING', 4320),\n",
       " ('PARENTS', 3955),\n",
       " ('THE WORLDPOST', 3664),\n",
       " ('WEDDINGS', 3653),\n",
       " ('WOMEN', 3572),\n",
       " ('CRIME', 3562),\n",
       " ('IMPACT', 3484),\n",
       " ('DIVORCE', 3426),\n",
       " ('WORLD NEWS', 3299),\n",
       " ('MEDIA', 2944),\n",
       " ('WEIRD NEWS', 2777),\n",
       " ('GREEN', 2622),\n",
       " ('WORLDPOST', 2579),\n",
       " ('RELIGION', 2577),\n",
       " ('STYLE', 2254),\n",
       " ('SCIENCE', 2206),\n",
       " ('TECH', 2104),\n",
       " ('TASTE', 2096),\n",
       " ('MONEY', 1756),\n",
       " ('ARTS', 1509),\n",
       " ('ENVIRONMENT', 1444),\n",
       " ('FIFTY', 1401),\n",
       " ('GOOD NEWS', 1398),\n",
       " ('U.S. NEWS', 1377),\n",
       " ('ARTS & CULTURE', 1339),\n",
       " ('COLLEGE', 1144),\n",
       " ('LATINO VOICES', 1130),\n",
       " ('CULTURE & ARTS', 1074),\n",
       " ('EDUCATION', 1014)]"
      ]
     },
     "execution_count": 37,
     "metadata": {},
     "output_type": "execute_result"
    }
   ],
   "source": [
    "import json\n",
    "\n",
    "categories_count = {}\n",
    "\n",
    "# Iterar a través de cada diccionario en la lista\n",
    "for dic in lines:\n",
    "    category = json.loads(dic)['category']\n",
    "    \n",
    "    # Actualizar el recuento de la categoría\n",
    "    if category in categories_count:\n",
    "        categories_count[category] += 1\n",
    "    else:\n",
    "        categories_count[category] = 1\n",
    "\n",
    "sorted(categories_count.items(), key=lambda x: x[1], reverse=True)\n",
    "\n"
   ]
  },
  {
   "cell_type": "code",
   "execution_count": 39,
   "metadata": {},
   "outputs": [],
   "source": [
    "from sklearn.model_selection import train_test_split\n",
    "from spacy.tokens import DocBin\n",
    "import spacy\n",
    "import json\n",
    "\n",
    "categories = [\"POLITICS\", \"WELLNESS\", \"ENTERTAINMENT\", \"TRAVEL\"]\n",
    "headline = [\n",
    "    json.loads(line)[\"headline\"]\n",
    "    for line in lines\n",
    "    if json.loads(line)[\"category\"] in categories\n",
    "]\n",
    "category = [\n",
    "    json.loads(line)[\"category\"]\n",
    "    for line in lines\n",
    "    if json.loads(line)[\"category\"] in categories\n",
    "]\n",
    "\n",
    "X_train, X_test, y_train, y_test = train_test_split(\n",
    "    headline, category, test_size=0.2, stratify=category, random_state=42\n",
    ")\n",
    "\n",
    "\n",
    "def convert(text_list: list, label_list: list, outfile: str):\n",
    "    nlp = spacy.blank(\"en\")\n",
    "    db = DocBin()\n",
    "    for text, label in zip(text_list, label_list):\n",
    "        doc = nlp.make_doc(text)\n",
    "        doc.cats = {category: 0 for category in categories}\n",
    "        doc.cats[label] = 1\n",
    "        db.add(doc)\n",
    "    db.to_disk(outfile)\n",
    "\n",
    "\n",
    "convert(X_train, y_train, \"resources/4news_train.spacy\")\n",
    "convert(X_test, y_test, \"resources/4_news_dev.spacy\")\n"
   ]
  },
  {
   "cell_type": "markdown",
   "metadata": {},
   "source": [
    "## Model training"
   ]
  },
  {
   "cell_type": "code",
   "execution_count": 41,
   "metadata": {},
   "outputs": [
    {
     "name": "stdout",
     "output_type": "stream",
     "text": [
      "\u001b[38;5;3m⚠ To generate a more effective transformer-based config (GPU-only),\n",
      "install the spacy-transformers package and re-run this command. The config\n",
      "generated now does not use transformers.\u001b[0m\n",
      "\u001b[38;5;4mℹ Generated config template specific for your use case\u001b[0m\n",
      "- Language: en\n",
      "- Pipeline: textcat_multilabel\n",
      "- Optimize for: efficiency\n",
      "- Hardware: CPU\n",
      "- Transformer: None\n",
      "\u001b[38;5;2m✔ Auto-filled config with all values\u001b[0m\n",
      "\u001b[38;5;2m✔ Saved config\u001b[0m\n",
      "4news_config.cfg\n",
      "You can now add your data and train your pipeline:\n",
      "python -m spacy train 4news_config.cfg --paths.train ./train.spacy --paths.dev ./dev.spacy\n"
     ]
    }
   ],
   "source": [
    "!python -m spacy init config --pipeline textcat_multilabel 4news_config.cfg\n"
   ]
  }
 ],
 "metadata": {
  "kernelspec": {
   "display_name": "Python 3",
   "language": "python",
   "name": "python3"
  },
  "language_info": {
   "codemirror_mode": {
    "name": "ipython",
    "version": 3
   },
   "file_extension": ".py",
   "mimetype": "text/x-python",
   "name": "python",
   "nbconvert_exporter": "python",
   "pygments_lexer": "ipython3",
   "version": "3.10.4"
  }
 },
 "nbformat": 4,
 "nbformat_minor": 2
}
